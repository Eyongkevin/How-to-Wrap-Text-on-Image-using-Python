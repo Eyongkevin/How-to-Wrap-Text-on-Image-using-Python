{
 "cells": [
  {
   "cell_type": "markdown",
   "metadata": {},
   "source": [
    "# How to Wrap Text on Image using Python\n",
    "We will be using the extension library `pillow` to draw text on an image. We shall use the following classes from pillow:\n",
    "- Image : to create an image object for our text \n",
    "- ImageDraw: to create a drawing context\n",
    "- ImageFont: font of the text we will be drawing on the image"
   ]
  },
  {
   "cell_type": "code",
   "execution_count": 73,
   "metadata": {
    "collapsed": true
   },
   "outputs": [],
   "source": [
    "from PIL import Image, ImageDraw, ImageFont, ImageFilter\n",
    "from random import randint"
   ]
  },
  {
   "cell_type": "code",
   "execution_count": 74,
   "metadata": {
    "collapsed": true
   },
   "outputs": [],
   "source": [
    "#create image object from the input image path\n",
    "try:\n",
    "    image = Image.open('./eyong.jpg')\n",
    " \n",
    "    \n",
    "except IOError as e:\n",
    "    print(e)"
   ]
  },
  {
   "cell_type": "markdown",
   "metadata": {},
   "source": [
    "### Resize Image base on a given width (500)"
   ]
  },
  {
   "cell_type": "code",
   "execution_count": 75,
   "metadata": {},
   "outputs": [
    {
     "data": {
      "text/plain": [
       "(500, 666)"
      ]
     },
     "execution_count": 75,
     "metadata": {},
     "output_type": "execute_result"
    }
   ],
   "source": [
    "# Resize the image \n",
    "width = 500\n",
    "img_w = image.size[0]\n",
    "img_h = image.size[1]\n",
    "wpercent = (width/float(img_w))\n",
    "hsize = int((float(img_h)*float(wpercent)))\n",
    "rmg = image.resize((width,hsize), Image.ANTIALIAS)\n",
    "rmg.size"
   ]
  },
  {
   "cell_type": "markdown",
   "metadata": {},
   "source": [
    "### Calculate x limits and generate randome x-axis point"
   ]
  },
  {
   "cell_type": "code",
   "execution_count": 76,
   "metadata": {},
   "outputs": [
    {
     "name": "stdout",
     "output_type": "stream",
     "text": [
      "40 250\n"
     ]
    }
   ],
   "source": [
    "# Set x boundry\n",
    "# Take 8% to the left for min and 50% to the left for max\n",
    "x_min = (rmg.size[0] * 8) // 100\n",
    "x_max = (rmg.size[0] * 50) // 100\n",
    "print(x_min, x_max)"
   ]
  },
  {
   "cell_type": "code",
   "execution_count": 77,
   "metadata": {},
   "outputs": [
    {
     "name": "stdout",
     "output_type": "stream",
     "text": [
      "204\n"
     ]
    }
   ],
   "source": [
    "# Generate the random positioning\n",
    "ran_x = randint(x_min, x_max)\n",
    "print(ran_x)"
   ]
  },
  {
   "cell_type": "code",
   "execution_count": 78,
   "metadata": {
    "collapsed": true
   },
   "outputs": [],
   "source": [
    "# Create font object with the font file and specify desired size\n",
    "# Font style is `arial` and font size is 20\n",
    "font_path = 'font/arialbd.ttf'\n",
    "font = ImageFont.truetype(font=font_path, size=20)"
   ]
  },
  {
   "cell_type": "markdown",
   "metadata": {},
   "source": [
    "## Spliting text to multiple line captioning\n",
    "- If text is shorter than the maximum width, then it can fit in one line. Return without splitting\n",
    "- Split the text using spaces to get each words\n",
    "- Create short texts by appending words while the width is smaller than the maximum width."
   ]
  },
  {
   "cell_type": "markdown",
   "metadata": {},
   "source": [
    "### Split text and find line height\n",
    "Since we have the randomly generated x-axis, we can split the text to obtain the right amount of lines"
   ]
  },
  {
   "cell_type": "code",
   "execution_count": 79,
   "metadata": {
    "collapsed": true
   },
   "outputs": [],
   "source": [
    "def text_wrap(text, font, max_width):\n",
    "    lines = []\n",
    "    \n",
    "    # If the text width is smaller than the image width, then no need to split\n",
    "    # just add it to the line list and return\n",
    "    if font.getsize(text)[0]  <= max_width:\n",
    "        lines.append(text)\n",
    "    else:\n",
    "        #split the line by spaces to get words\n",
    "        words = text.split(' ')\n",
    "        i = 0\n",
    "        # append every word to a line while its width is shorter than the image width\n",
    "        while i < len(words):\n",
    "            line = ''\n",
    "            while i < len(words) and font.getsize(line + words[i])[0] <= max_width:\n",
    "                line = line + words[i]+ \" \"\n",
    "                i += 1\n",
    "            if not line:\n",
    "                line = words[i]\n",
    "                i += 1\n",
    "            lines.append(line)\n",
    "    return lines\n",
    "            \n",
    "        "
   ]
  },
  {
   "cell_type": "code",
   "execution_count": 80,
   "metadata": {
    "collapsed": true
   },
   "outputs": [],
   "source": [
    "def draw_text(text):    \n",
    "    # open the background file\n",
    "    img = Image.open('./xander_1.jpg')\n",
    "    \n",
    "    # size() returns a tuple of (width, height) \n",
    "    image_size = img.size \n",
    " \n",
    "    # create the ImageFont instance\n",
    "    font_file_path = 'font/arialbd.ttf'\n",
    "    font = ImageFont.truetype(font_file_path, size=50, encoding=\"unic\")\n",
    " \n",
    "    # get shorter lines\n",
    "    lines = text_wrap(text, font, image_size[0])\n",
    "    print(lines) # ['This could be a single line text ', 'but its too long to fit in one. ']\n",
    " "
   ]
  },
  {
   "cell_type": "markdown",
   "metadata": {},
   "source": [
    "Testing our `text_wrap` function to see how well it splits long text\n",
    "\n",
    "Base on the font, text length and image width, we could split the text into 4 lines"
   ]
  },
  {
   "cell_type": "code",
   "execution_count": 81,
   "metadata": {},
   "outputs": [
    {
     "name": "stdout",
     "output_type": "stream",
     "text": [
      "['This could be a ', 'single line text but ', 'its too long to fit in ', 'one. ']\n"
     ]
    }
   ],
   "source": [
    "draw_text(\"This could be a single line text but its too long to fit in one.\")"
   ]
  },
  {
   "cell_type": "code",
   "execution_count": 82,
   "metadata": {},
   "outputs": [],
   "source": [
    "# Caption\n",
    "\n",
    "text = \"This could be a single line text but its too long to fit in one.\"\n",
    "lines = text_wrap(text, font, rmg.size[0]-ran_x)\n",
    "line_height = font.getsize('hg')[1]"
   ]
  },
  {
   "cell_type": "markdown",
   "metadata": {},
   "source": [
    "### Calculate the Y limit and generate the y-axis point"
   ]
  },
  {
   "cell_type": "code",
   "execution_count": 83,
   "metadata": {
    "collapsed": true
   },
   "outputs": [],
   "source": [
    "y_min = (rmg.size[1] * 4) // 100   # 4% from the top\n",
    "y_max = (rmg.size[1] * 90) //100   # 90% to the bottom\n",
    "y_max -= (len(lines)*line_height)  # Adjust base on lines and height\n",
    "ran_y = randint(y_min, y_max)      # Generate random point"
   ]
  },
  {
   "cell_type": "markdown",
   "metadata": {},
   "source": [
    "### Apply filter to the image\n",
    "We can add a filter to make the image smooth before drawing text on it"
   ]
  },
  {
   "cell_type": "code",
   "execution_count": 84,
   "metadata": {
    "collapsed": true
   },
   "outputs": [],
   "source": [
    "rmg = rmg.filter(ImageFilter.SMOOTH_MORE)"
   ]
  },
  {
   "cell_type": "markdown",
   "metadata": {},
   "source": [
    "### Draw text on image\n",
    "Now that we have the radomly generated x and y-axis positions, we have the number of line of text, we have the line height, we can then draw on image"
   ]
  },
  {
   "cell_type": "code",
   "execution_count": 85,
   "metadata": {
    "collapsed": true
   },
   "outputs": [],
   "source": [
    "#Create draw object\n",
    "draw = ImageDraw.Draw(rmg)"
   ]
  },
  {
   "cell_type": "code",
   "execution_count": 86,
   "metadata": {
    "collapsed": true
   },
   "outputs": [],
   "source": [
    "color = 'rgb(255,0,0)'  # Red color\n",
    "x = ran_x\n",
    "y = y_max\n",
    "\n",
    "for line in lines:\n",
    "    draw.text((x,y), line, fill=color, font=font)\n",
    "    \n",
    "    y = y + line_height\n",
    "\n",
    "author = \"- Eyong Kevin\"\n",
    "y += 5                        # Add some line space\n",
    "x += 20                       # Indent a bit to the right\n",
    "draw.text((x,y), author, fill=color, font=font)\n",
    "rmg.show()"
   ]
  },
  {
   "cell_type": "code",
   "execution_count": 87,
   "metadata": {
    "collapsed": true
   },
   "outputs": [],
   "source": [
    "# Save captioned image\n",
    "rmg.save('./eyong_kevin.jpg')"
   ]
  },
  {
   "cell_type": "code",
   "execution_count": null,
   "metadata": {
    "collapsed": true
   },
   "outputs": [],
   "source": []
  }
 ],
 "metadata": {
  "kernelspec": {
   "display_name": "Python 3",
   "language": "python",
   "name": "python3"
  },
  "language_info": {
   "codemirror_mode": {
    "name": "ipython",
    "version": 3
   },
   "file_extension": ".py",
   "mimetype": "text/x-python",
   "name": "python",
   "nbconvert_exporter": "python",
   "pygments_lexer": "ipython3",
   "version": "3.6.9"
  }
 },
 "nbformat": 4,
 "nbformat_minor": 2
}
